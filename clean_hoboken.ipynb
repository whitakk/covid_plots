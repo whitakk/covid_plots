{
 "cells": [
  {
   "cell_type": "code",
   "execution_count": 1,
   "metadata": {},
   "outputs": [],
   "source": [
    "import pandas as pd\n",
    "import numpy as np\n",
    "\n",
    "import matplotlib.pyplot as plt\n",
    "from datetime import datetime"
   ]
  },
  {
   "cell_type": "code",
   "execution_count": 2,
   "metadata": {},
   "outputs": [],
   "source": [
    "# daily Hoboken case data from city alerts\n",
    "f = open('hoboken/hoboken.txt', 'rb')\n",
    "txt = f.readlines()\n",
    "f.close()"
   ]
  },
  {
   "cell_type": "code",
   "execution_count": 3,
   "metadata": {},
   "outputs": [],
   "source": [
    "lst = [i.decode('utf-8') for i in txt]\n",
    "lst = [i for i in lst if i != '\\r\\n']"
   ]
  },
  {
   "cell_type": "code",
   "execution_count": 4,
   "metadata": {},
   "outputs": [
    {
     "data": {
      "text/html": [
       "<div>\n",
       "<style scoped>\n",
       "    .dataframe tbody tr th:only-of-type {\n",
       "        vertical-align: middle;\n",
       "    }\n",
       "\n",
       "    .dataframe tbody tr th {\n",
       "        vertical-align: top;\n",
       "    }\n",
       "\n",
       "    .dataframe thead th {\n",
       "        text-align: right;\n",
       "    }\n",
       "</style>\n",
       "<table border=\"1\" class=\"dataframe\">\n",
       "  <thead>\n",
       "    <tr style=\"text-align: right;\">\n",
       "      <th></th>\n",
       "      <th>raw</th>\n",
       "    </tr>\n",
       "  </thead>\n",
       "  <tbody>\n",
       "    <tr>\n",
       "      <th>0</th>\n",
       "      <td>May 3: 0\\r\\n</td>\n",
       "    </tr>\n",
       "    <tr>\n",
       "      <th>1</th>\n",
       "      <td>May 4: 9\\r\\n</td>\n",
       "    </tr>\n",
       "    <tr>\n",
       "      <th>2</th>\n",
       "      <td>May 5: 6\\r\\n</td>\n",
       "    </tr>\n",
       "    <tr>\n",
       "      <th>3</th>\n",
       "      <td>May 6: 11\\r\\n</td>\n",
       "    </tr>\n",
       "    <tr>\n",
       "      <th>4</th>\n",
       "      <td>May 7: 11\\r\\n</td>\n",
       "    </tr>\n",
       "  </tbody>\n",
       "</table>\n",
       "</div>"
      ],
      "text/plain": [
       "             raw\n",
       "0   May 3: 0\\r\\n\n",
       "1   May 4: 9\\r\\n\n",
       "2   May 5: 6\\r\\n\n",
       "3  May 6: 11\\r\\n\n",
       "4  May 7: 11\\r\\n"
      ]
     },
     "execution_count": 4,
     "metadata": {},
     "output_type": "execute_result"
    }
   ],
   "source": [
    "df = pd.DataFrame(lst, columns=['raw'])\n",
    "df.head()"
   ]
  },
  {
   "cell_type": "code",
   "execution_count": 5,
   "metadata": {},
   "outputs": [],
   "source": [
    "month_map = {'January':1,\n",
    "            'February':2,\n",
    "            'March':3,\n",
    "            'April':4, \n",
    "            'May':5,\n",
    "            'June':6, \n",
    "            'July':7, \n",
    "            'August':8,\n",
    "            'September':9, \n",
    "            'October':10,\n",
    "            'November':11,\n",
    "            'December':12}\n"
   ]
  },
  {
   "cell_type": "code",
   "execution_count": 6,
   "metadata": {},
   "outputs": [],
   "source": [
    "df['day_raw'] = df['raw'].apply(lambda x: x.split(':')[0])\n",
    "df['year'] = np.where(df.index>=134, 2020, 2021)\n",
    "\n",
    "df['month'] = df['day_raw'].apply(lambda x: x.split(' ')[0])\n",
    "df['month'] = df['month'].apply(lambda x: month_map[x])\n",
    "df['day'] = df['day_raw'].apply(lambda x: x.split(' ')[-1])\n",
    "\n",
    "df['day'] = df['day'].apply(lambda x: x.replace('st',''))\n",
    "df['day'] = df['day'].apply(lambda x: x.replace('nd',''))\n",
    "df['day'] = df['day'].apply(lambda x: x.replace('rd',''))\n",
    "df['day'] = df['day'].apply(lambda x: x.replace('th',''))\n",
    "\n",
    "\n",
    "df['date'] = pd.to_datetime(df[['year','month','day']])"
   ]
  },
  {
   "cell_type": "code",
   "execution_count": 7,
   "metadata": {},
   "outputs": [],
   "source": [
    "df['cases'] = df['raw'].apply(lambda x: x.split(':')[1].strip().split(' ')[0].replace('new',''))\n",
    "df['cases'] = pd.to_numeric(df['cases'], errors='coerce')\n",
    "df['cases'] = df['cases'].fillna(0)"
   ]
  },
  {
   "cell_type": "code",
   "execution_count": 8,
   "metadata": {},
   "outputs": [],
   "source": [
    "df = df.sort_values('date', ascending=True).reset_index(drop=True)\n",
    "df['cases_7'] = df['cases'].rolling(7).mean()\n",
    "df['cases_100k'] = df['cases_7']*2 # 50k residents in Hoboken per last sentence"
   ]
  },
  {
   "cell_type": "code",
   "execution_count": 9,
   "metadata": {},
   "outputs": [
    {
     "data": {
      "text/html": [
       "<div>\n",
       "<style scoped>\n",
       "    .dataframe tbody tr th:only-of-type {\n",
       "        vertical-align: middle;\n",
       "    }\n",
       "\n",
       "    .dataframe tbody tr th {\n",
       "        vertical-align: top;\n",
       "    }\n",
       "\n",
       "    .dataframe thead th {\n",
       "        text-align: right;\n",
       "    }\n",
       "</style>\n",
       "<table border=\"1\" class=\"dataframe\">\n",
       "  <thead>\n",
       "    <tr style=\"text-align: right;\">\n",
       "      <th></th>\n",
       "      <th>raw</th>\n",
       "      <th>day_raw</th>\n",
       "      <th>year</th>\n",
       "      <th>month</th>\n",
       "      <th>day</th>\n",
       "      <th>date</th>\n",
       "      <th>cases</th>\n",
       "      <th>cases_7</th>\n",
       "      <th>cases_100k</th>\n",
       "    </tr>\n",
       "  </thead>\n",
       "  <tbody>\n",
       "    <tr>\n",
       "      <th>434</th>\n",
       "      <td>May 10: 1\\r\\n</td>\n",
       "      <td>May 10</td>\n",
       "      <td>2021</td>\n",
       "      <td>5</td>\n",
       "      <td>10</td>\n",
       "      <td>2021-05-10</td>\n",
       "      <td>1.0</td>\n",
       "      <td>6.142857</td>\n",
       "      <td>12.285714</td>\n",
       "    </tr>\n",
       "    <tr>\n",
       "      <th>435</th>\n",
       "      <td>May 11: 0\\r\\n</td>\n",
       "      <td>May 11</td>\n",
       "      <td>2021</td>\n",
       "      <td>5</td>\n",
       "      <td>11</td>\n",
       "      <td>2021-05-11</td>\n",
       "      <td>0.0</td>\n",
       "      <td>4.857143</td>\n",
       "      <td>9.714286</td>\n",
       "    </tr>\n",
       "    <tr>\n",
       "      <th>436</th>\n",
       "      <td>May 12: 5\\r\\n</td>\n",
       "      <td>May 12</td>\n",
       "      <td>2021</td>\n",
       "      <td>5</td>\n",
       "      <td>12</td>\n",
       "      <td>2021-05-12</td>\n",
       "      <td>5.0</td>\n",
       "      <td>4.714286</td>\n",
       "      <td>9.428571</td>\n",
       "    </tr>\n",
       "    <tr>\n",
       "      <th>437</th>\n",
       "      <td>May 13: 1\\r\\n</td>\n",
       "      <td>May 13</td>\n",
       "      <td>2021</td>\n",
       "      <td>5</td>\n",
       "      <td>13</td>\n",
       "      <td>2021-05-13</td>\n",
       "      <td>1.0</td>\n",
       "      <td>3.285714</td>\n",
       "      <td>6.571429</td>\n",
       "    </tr>\n",
       "    <tr>\n",
       "      <th>438</th>\n",
       "      <td>May 14: 7\\r\\n</td>\n",
       "      <td>May 14</td>\n",
       "      <td>2021</td>\n",
       "      <td>5</td>\n",
       "      <td>14</td>\n",
       "      <td>2021-05-14</td>\n",
       "      <td>7.0</td>\n",
       "      <td>2.714286</td>\n",
       "      <td>5.428571</td>\n",
       "    </tr>\n",
       "  </tbody>\n",
       "</table>\n",
       "</div>"
      ],
      "text/plain": [
       "               raw day_raw  year  month day       date  cases   cases_7  \\\n",
       "434  May 10: 1\\r\\n  May 10  2021      5  10 2021-05-10    1.0  6.142857   \n",
       "435  May 11: 0\\r\\n  May 11  2021      5  11 2021-05-11    0.0  4.857143   \n",
       "436  May 12: 5\\r\\n  May 12  2021      5  12 2021-05-12    5.0  4.714286   \n",
       "437  May 13: 1\\r\\n  May 13  2021      5  13 2021-05-13    1.0  3.285714   \n",
       "438  May 14: 7\\r\\n  May 14  2021      5  14 2021-05-14    7.0  2.714286   \n",
       "\n",
       "     cases_100k  \n",
       "434   12.285714  \n",
       "435    9.714286  \n",
       "436    9.428571  \n",
       "437    6.571429  \n",
       "438    5.428571  "
      ]
     },
     "execution_count": 9,
     "metadata": {},
     "output_type": "execute_result"
    }
   ],
   "source": [
    "df.tail()"
   ]
  },
  {
   "cell_type": "code",
   "execution_count": 10,
   "metadata": {},
   "outputs": [],
   "source": [
    "import pickle\n",
    "pickle.dump(df, open('hoboken/hoboken.p', 'wb'))"
   ]
  },
  {
   "cell_type": "code",
   "execution_count": null,
   "metadata": {},
   "outputs": [],
   "source": []
  }
 ],
 "metadata": {
  "kernelspec": {
   "display_name": "Python 3",
   "language": "python",
   "name": "python3"
  },
  "language_info": {
   "codemirror_mode": {
    "name": "ipython",
    "version": 3
   },
   "file_extension": ".py",
   "mimetype": "text/x-python",
   "name": "python",
   "nbconvert_exporter": "python",
   "pygments_lexer": "ipython3",
   "version": "3.7.1"
  }
 },
 "nbformat": 4,
 "nbformat_minor": 2
}
